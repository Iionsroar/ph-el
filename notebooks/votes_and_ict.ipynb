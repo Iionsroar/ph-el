{
 "cells": [
  {
   "cell_type": "markdown",
   "id": "61f18dc0-d936-439c-9bee-0e9e835b98c9",
   "metadata": {
    "tags": []
   },
   "source": [
    "# Votes and ICT\n",
    "\n",
    "- Merge 2016 and 2022 election datasets for the two candidates Marcos and Robredo + ICT data from PSA OpenStat\n",
    "\n",
    "## Prepare the datasets for merging"
   ]
  },
  {
   "cell_type": "code",
   "execution_count": 56,
   "id": "ccab5c33-c328-45b6-9c3e-0fb6273150e5",
   "metadata": {
    "tags": []
   },
   "outputs": [
    {
     "name": "stdout",
     "output_type": "stream",
     "text": [
      "Shape (90642, 7) (105666, 7)\n",
      "Index(['Barangay', 'City', 'Marcos', 'Precinct ID (2016)', 'Province',\n",
      "       'Region', 'Robredo'],\n",
      "      dtype='object')\n",
      "Index(['Barangay', 'City', 'Marcos', 'Precinct ID (2022)', 'Province',\n",
      "       'Region', 'Robredo'],\n",
      "      dtype='object')\n"
     ]
    }
   ],
   "source": [
    "import pandas as pd\n",
    "from pandas_profiling import ProfileReport\n",
    "from pprint import pprint\n",
    "\n",
    "elec_2022 = pd.read_csv(\"../dataset/Elections Dataset/pres_precinct_data_2022.csv\")\n",
    "ict = pd.read_excel(\"../dataset/ICT_CONTENT_2015_2017.xlsx\")\n",
    "elec_2016 = pd.read_csv(\"../dataset/Elections Dataset/vp_precinct_data_2016.csv\")\n",
    "\n",
    "# Rename\n",
    "STDZ_2016 = {\n",
    "    'barangay': 'Barangay', \n",
    "    'province': 'Province', \n",
    "    'region': 'Region', \n",
    "    'municipality': 'City', \n",
    "    'clustered_precinct': 'Precinct ID (2016)',\n",
    "    'marcos': 'Marcos',\n",
    "    'robredo': 'Robredo',\n",
    "}\n",
    "STDZ_2022 = {\n",
    "    'barangay': 'Barangay', \n",
    "    'province': 'Province', \n",
    "    'region': 'Region', \n",
    "    'municipality': 'City', \n",
    "    'Precinct ID': 'Precinct ID (2022)',\n",
    "    'MARCOS, BONGBONG (PFP)': 'Marcos',\n",
    "    'ROBREDO, LENI (IND)': 'Robredo',\n",
    "}\n",
    "elec_2016.rename(columns=STDZ_2016, inplace=True)\n",
    "elec_2022.rename(columns=STDZ_2022, inplace=True)\n",
    "\n",
    "# Select locations subset w/ Precinct ID\n",
    "columns_2016 = ['Precinct ID (2016)', 'Region', 'Province', 'City', 'Barangay', 'Marcos', 'Robredo']\n",
    "columns_2022 = ['Precinct ID (2022)', 'Region', 'Province', 'City', 'Barangay', 'Marcos', 'Robredo']\n",
    "loc_2016 = pd.DataFrame(elec_2016[columns_2016].sort_index(axis=1).reset_index(drop=True))\n",
    "loc_2022 = pd.DataFrame(elec_2022[columns_2022].sort_index(axis=1).reset_index(drop=True))\n",
    "\n",
    "# Abbreviate regions in 2022 dataset\n",
    "# https://stackoverflow.com/questions/19937362/filter-string-data-based-on-its-string-length\n",
    "loc_2022.loc[\n",
    "    loc_2022[\"Region\"].apply(lambda name: len(name.split()) > 2), \"Region\"\n",
    "] = loc_2022[\"Region\"].apply(lambda name: \"\".join([word[0] for word in name.split()]))\n",
    "\n",
    "# Prepare dataframes for merging\n",
    "loc_2016.sort_values(by='Precinct ID (2016)', inplace=True)\n",
    "loc_2022.sort_values(by='Precinct ID (2022)', inplace=True)\n",
    "\n",
    "# https://stackoverflow.com/questions/40251948/stop-pandas-from-converting-int-to-float-due-to-an-insertion-in-another-column\n",
    "loc_2016[\"Precinct ID (2016)\"] = pd.Series(loc_2016[\"Precinct ID (2016)\"], dtype=object)\n",
    "loc_2022[\"Precinct ID (2022)\"] = pd.Series(loc_2022[\"Precinct ID (2022)\"], dtype=object) \n",
    "\n",
    "# https://stackoverflow.com/questions/33165734/update-index-after-sorting-data-frame\n",
    "loc_2016 = loc_2016.reset_index(drop=True)\n",
    "loc_2022 = loc_2022.reset_index(drop=True)\n",
    "\n",
    "# Check matched dataframes\n",
    "print('Shape', loc_2016.shape, loc_2022.shape)\n",
    "print(loc_2016.columns)\n",
    "print(loc_2022.columns)"
   ]
  },
  {
   "cell_type": "markdown",
   "id": "372c898c-24c2-4c90-bb54-c2f63ce8349b",
   "metadata": {},
   "source": [
    "## Merge the election dataframes and Validate"
   ]
  },
  {
   "cell_type": "code",
   "execution_count": 57,
   "id": "3b96db23-dc37-4830-be74-ab8eac60e1ff",
   "metadata": {
    "tags": []
   },
   "outputs": [],
   "source": [
    "merged = pd.merge(\n",
    "    loc_2016, \n",
    "    loc_2022, \n",
    "    how=\"outer\",\n",
    "    left_on=['Precinct ID (2016)'],\n",
    "    right_on=['Precinct ID (2022)'],\n",
    "    suffixes=(' (2016)', ' (2022)'),\n",
    ")\n",
    "\n",
    "sorter = [\n",
    "    'Precinct ID (2016)',\n",
    "    'Precinct ID (2022)',\n",
    "    'Marcos (2016)',\n",
    "    'Marcos (2022)',\n",
    "    'Robredo (2016)',\n",
    "    'Robredo (2022)',\n",
    "    'Barangay (2016)',\n",
    "    'Barangay (2022)',\n",
    "    'City (2016)',\n",
    "    'City (2022)',\n",
    "    'Province (2016)',\n",
    "    'Province (2022)',\n",
    "    'Region (2016)',\n",
    "    'Region (2022)',\n",
    "]\n",
    "merged = merged[sorter]\n",
    "\n",
    "# VALIDATE by comparing to pres and vp pandas profiling reports\n",
    "profile = ProfileReport(merged, title=\"Pandas Profiling Report\")\n",
    "# profile.to_file(\"../reports/Loc - Pandas Profiling Report.html\")"
   ]
  },
  {
   "cell_type": "markdown",
   "id": "853b6632-b6b2-4073-a9a3-0804fe82949d",
   "metadata": {
    "tags": []
   },
   "source": [
    "## Exploring the ICT dataset"
   ]
  },
  {
   "cell_type": "code",
   "execution_count": 79,
   "id": "68c551c7-b4c6-4bfe-a1c8-0cc4d3f583cd",
   "metadata": {
    "tags": []
   },
   "outputs": [
    {
     "data": {
      "text/html": [
       "<div>\n",
       "<style scoped>\n",
       "    .dataframe tbody tr th:only-of-type {\n",
       "        vertical-align: middle;\n",
       "    }\n",
       "\n",
       "    .dataframe tbody tr th {\n",
       "        vertical-align: top;\n",
       "    }\n",
       "\n",
       "    .dataframe thead th {\n",
       "        text-align: right;\n",
       "    }\n",
       "</style>\n",
       "<table border=\"1\" class=\"dataframe\">\n",
       "  <thead>\n",
       "    <tr style=\"text-align: right;\">\n",
       "      <th></th>\n",
       "      <th>Region</th>\n",
       "      <th>Marcos</th>\n",
       "      <th>Robredo</th>\n",
       "      <th>Number of establishments 2015</th>\n",
       "      <th>Number of establishments 2017</th>\n",
       "    </tr>\n",
       "  </thead>\n",
       "  <tbody>\n",
       "    <tr>\n",
       "      <th>0</th>\n",
       "      <td>ARMM</td>\n",
       "      <td>283884</td>\n",
       "      <td>464605</td>\n",
       "      <td>NaN</td>\n",
       "      <td>NaN</td>\n",
       "    </tr>\n",
       "    <tr>\n",
       "      <th>1</th>\n",
       "      <td>CAR</td>\n",
       "      <td>446960</td>\n",
       "      <td>116213</td>\n",
       "      <td>21.0</td>\n",
       "      <td>21.0</td>\n",
       "    </tr>\n",
       "    <tr>\n",
       "      <th>2</th>\n",
       "      <td>NCR</td>\n",
       "      <td>2179053</td>\n",
       "      <td>1361617</td>\n",
       "      <td>346.0</td>\n",
       "      <td>339.0</td>\n",
       "    </tr>\n",
       "    <tr>\n",
       "      <th>3</th>\n",
       "      <td>NIR</td>\n",
       "      <td>225922</td>\n",
       "      <td>969381</td>\n",
       "      <td>35.0</td>\n",
       "      <td>NaN</td>\n",
       "    </tr>\n",
       "    <tr>\n",
       "      <th>4</th>\n",
       "      <td>REGION I</td>\n",
       "      <td>1764750</td>\n",
       "      <td>297974</td>\n",
       "      <td>35.0</td>\n",
       "      <td>42.0</td>\n",
       "    </tr>\n",
       "    <tr>\n",
       "      <th>5</th>\n",
       "      <td>REGION II</td>\n",
       "      <td>1047037</td>\n",
       "      <td>184520</td>\n",
       "      <td>14.0</td>\n",
       "      <td>15.0</td>\n",
       "    </tr>\n",
       "    <tr>\n",
       "      <th>6</th>\n",
       "      <td>REGION III</td>\n",
       "      <td>2136431</td>\n",
       "      <td>1334104</td>\n",
       "      <td>32.0</td>\n",
       "      <td>35.0</td>\n",
       "    </tr>\n",
       "    <tr>\n",
       "      <th>7</th>\n",
       "      <td>REGION IV-A</td>\n",
       "      <td>1864189</td>\n",
       "      <td>1973116</td>\n",
       "      <td>32.0</td>\n",
       "      <td>40.0</td>\n",
       "    </tr>\n",
       "    <tr>\n",
       "      <th>8</th>\n",
       "      <td>REGION IV-B</td>\n",
       "      <td>264650</td>\n",
       "      <td>491405</td>\n",
       "      <td>7.0</td>\n",
       "      <td>8.0</td>\n",
       "    </tr>\n",
       "    <tr>\n",
       "      <th>9</th>\n",
       "      <td>REGION IX</td>\n",
       "      <td>315547</td>\n",
       "      <td>474021</td>\n",
       "      <td>25.0</td>\n",
       "      <td>29.0</td>\n",
       "    </tr>\n",
       "    <tr>\n",
       "      <th>10</th>\n",
       "      <td>REGION V</td>\n",
       "      <td>187277</td>\n",
       "      <td>1500405</td>\n",
       "      <td>44.0</td>\n",
       "      <td>51.0</td>\n",
       "    </tr>\n",
       "    <tr>\n",
       "      <th>11</th>\n",
       "      <td>REGION VI</td>\n",
       "      <td>272358</td>\n",
       "      <td>1268076</td>\n",
       "      <td>27.0</td>\n",
       "      <td>58.0</td>\n",
       "    </tr>\n",
       "    <tr>\n",
       "      <th>12</th>\n",
       "      <td>REGION VII</td>\n",
       "      <td>393042</td>\n",
       "      <td>1111516</td>\n",
       "      <td>54.0</td>\n",
       "      <td>71.0</td>\n",
       "    </tr>\n",
       "    <tr>\n",
       "      <th>13</th>\n",
       "      <td>REGION VIII</td>\n",
       "      <td>724747</td>\n",
       "      <td>687086</td>\n",
       "      <td>13.0</td>\n",
       "      <td>16.0</td>\n",
       "    </tr>\n",
       "    <tr>\n",
       "      <th>14</th>\n",
       "      <td>REGION X</td>\n",
       "      <td>436300</td>\n",
       "      <td>694737</td>\n",
       "      <td>33.0</td>\n",
       "      <td>38.0</td>\n",
       "    </tr>\n",
       "    <tr>\n",
       "      <th>15</th>\n",
       "      <td>REGION XI</td>\n",
       "      <td>467186</td>\n",
       "      <td>233920</td>\n",
       "      <td>42.0</td>\n",
       "      <td>50.0</td>\n",
       "    </tr>\n",
       "    <tr>\n",
       "      <th>16</th>\n",
       "      <td>REGION XII</td>\n",
       "      <td>512497</td>\n",
       "      <td>422817</td>\n",
       "      <td>30.0</td>\n",
       "      <td>35.0</td>\n",
       "    </tr>\n",
       "    <tr>\n",
       "      <th>17</th>\n",
       "      <td>REGION XIII</td>\n",
       "      <td>207912</td>\n",
       "      <td>406810</td>\n",
       "      <td>15.0</td>\n",
       "      <td>16.0</td>\n",
       "    </tr>\n",
       "  </tbody>\n",
       "</table>\n",
       "</div>"
      ],
      "text/plain": [
       "         Region   Marcos  Robredo  Number of establishments 2015  \\\n",
       "0          ARMM   283884   464605                            NaN   \n",
       "1           CAR   446960   116213                           21.0   \n",
       "2           NCR  2179053  1361617                          346.0   \n",
       "3           NIR   225922   969381                           35.0   \n",
       "4      REGION I  1764750   297974                           35.0   \n",
       "5     REGION II  1047037   184520                           14.0   \n",
       "6    REGION III  2136431  1334104                           32.0   \n",
       "7   REGION IV-A  1864189  1973116                           32.0   \n",
       "8   REGION IV-B   264650   491405                            7.0   \n",
       "9     REGION IX   315547   474021                           25.0   \n",
       "10     REGION V   187277  1500405                           44.0   \n",
       "11    REGION VI   272358  1268076                           27.0   \n",
       "12   REGION VII   393042  1111516                           54.0   \n",
       "13  REGION VIII   724747   687086                           13.0   \n",
       "14     REGION X   436300   694737                           33.0   \n",
       "15    REGION XI   467186   233920                           42.0   \n",
       "16   REGION XII   512497   422817                           30.0   \n",
       "17  REGION XIII   207912   406810                           15.0   \n",
       "\n",
       "    Number of establishments 2017  \n",
       "0                             NaN  \n",
       "1                            21.0  \n",
       "2                           339.0  \n",
       "3                             NaN  \n",
       "4                            42.0  \n",
       "5                            15.0  \n",
       "6                            35.0  \n",
       "7                            40.0  \n",
       "8                             8.0  \n",
       "9                            29.0  \n",
       "10                           51.0  \n",
       "11                           58.0  \n",
       "12                           71.0  \n",
       "13                           16.0  \n",
       "14                           38.0  \n",
       "15                           50.0  \n",
       "16                           35.0  \n",
       "17                           16.0  "
      ]
     },
     "execution_count": 79,
     "metadata": {},
     "output_type": "execute_result"
    }
   ],
   "source": [
    "votes_by_region_2016 = elec_2016.groupby([\"Region\"]).sum()[[\"Marcos\",\"Robredo\"]].reset_index()\n",
    "votes_by_region_2022 = elec_2022.groupby([\"Region\"]).sum()[[\"Marcos\",\"Robredo\"]].reset_index()\n",
    "\n",
    "votes_2016_ict = pd.merge(\n",
    "    votes_by_region_2016,\n",
    "    ict,\n",
    "    how=\"inner\",\n",
    "    on=\"Region\"\n",
    ")\n",
    "votes_2016_ict_num_est = votes_2016_ict[[\"Region\", \"Marcos\", \"Robredo\", \"Number of establishments 2015\", \"Number of establishments 2017\"]]\n",
    "votes_2016_ict_num_est"
   ]
  },
  {
   "cell_type": "code",
   "execution_count": 81,
   "id": "6108a020-727f-44ca-a5dd-80b899ddeac6",
   "metadata": {},
   "outputs": [
    {
     "data": {
      "image/png": "[encoded data removed]",
      "text/plain": [
       "<Figure size 1080x360 with 1 Axes>"
      ]
     },
     "metadata": {
      "needs_background": "light"
     },
     "output_type": "display_data"
    }
   ],
   "source": [
    "import matplotlib.pyplot as plt\n",
    "\n",
    "fig, ax = plt.subplots(figsize=(15,5))\n",
    "# ax.plot(votes_2016_ict_num_est)"
   ]
  },
  {
   "cell_type": "code",
   "execution_count": 60,
   "id": "4d7c3bd9-4539-4697-9b45-d0ca8b25a993",
   "metadata": {},
   "outputs": [
    {
     "data": {
      "text/plain": [
       "<AxesSubplot:>"
      ]
     },
     "execution_count": 60,
     "metadata": {},
     "output_type": "execute_result"
    },
    {
     "data": {
      "image/png": "[encoded data removed]",
      "text/plain": [
       "<Figure size 720x360 with 1 Axes>"
      ]
     },
     "metadata": {
      "needs_background": "light"
     },
     "output_type": "display_data"
    }
   ],
   "source": [
    "# Values in the this dataset are in percent except number of establishments and employment\n",
    "\n",
    "# ict[[\"Region\", \"Establishments with internet access 2015\", \"Establishments with internet access 2017\"]].plot.bar(figsize=(10,5))\n",
    "ict[[\"Region\", \"Establishments with Social Media Account 2015\", \"Establishments with Social Media Account 2017\"]].plot.bar(figsize=(10,5))\n",
    "# ict.dtypes"
   ]
  },
  {
   "cell_type": "code",
   "execution_count": null,
   "id": "8765fb99-65d8-4481-a85b-3a28d087c305",
   "metadata": {},
   "outputs": [],
   "source": []
  }
 ],
 "metadata": {
  "kernelspec": {
   "display_name": "Python 3 (ipykernel)",
   "language": "python",
   "name": "python3"
  },
  "language_info": {
   "codemirror_mode": {
    "name": "ipython",
    "version": 3
   },
   "file_extension": ".py",
   "mimetype": "text/x-python",
   "name": "python",
   "nbconvert_exporter": "python",
   "pygments_lexer": "ipython3",
   "version": "3.9.6"
  }
 },
 "nbformat": 4,
 "nbformat_minor": 5
}
