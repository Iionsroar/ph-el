{
 "cells": [
  {
   "cell_type": "markdown",
   "id": "61f18dc0-d936-439c-9bee-0e9e835b98c9",
   "metadata": {
    "tags": []
   },
   "source": [
    "# Location\n",
    "\n",
    "- Merge 2016 and 2022 datasets for location"
   ]
  },
  {
   "cell_type": "code",
   "execution_count": 1,
   "id": "ccab5c33-c328-45b6-9c3e-0fb6273150e5",
   "metadata": {
    "tags": []
   },
   "outputs": [],
   "source": [
    "import pandas as pd\n",
    "from pandas_profiling import ProfileReport\n",
    "from pprint import pprint\n",
    "\n",
    "elec_2022 = pd.read_csv(\"../dataset/Elections Dataset/pres_precinct_data_2022.csv\")\n",
    "elec_2019 = pd.read_json(\"../dataset/Elections Dataset/2019/philippine_provinces_cities_municipalities_and_barangays_2019v2.json\")\n",
    "elec_2016 = pd.read_csv(\"../dataset/Elections Dataset/vp_precinct_data_2016.csv\")"
   ]
  },
  {
   "cell_type": "markdown",
   "id": "01a9455a-8a37-4f4a-923d-07f012aa1c1c",
   "metadata": {},
   "source": [
    "## Rename"
   ]
  },
  {
   "cell_type": "code",
   "execution_count": 2,
   "id": "59c3c85a-8c52-43f8-b358-273c60346d2b",
   "metadata": {},
   "outputs": [],
   "source": [
    "TO_LOC_2022_COLUMNS = {\n",
    "    'barangay': 'Barangay', \n",
    "    'province': 'Province', \n",
    "    'region': 'Region', \n",
    "    'municipality': 'City', \n",
    "    'clustered_precinct': 'Precinct ID (2016)'\n",
    "}\n",
    "elec_2016.rename(columns=TO_LOC_2022_COLUMNS, inplace=True)\n",
    "elec_2022.rename(columns={'Precinct ID': 'Precinct ID (2022)'}, inplace=True)"
   ]
  },
  {
   "cell_type": "markdown",
   "id": "cda248e1-9eb4-4cc7-a0a6-c8dacaafeebe",
   "metadata": {},
   "source": [
    "## Select locations subset w/ Precinct ID"
   ]
  },
  {
   "cell_type": "code",
   "execution_count": 3,
   "id": "a401bd65-7329-47a1-92ab-92a378fcc3c5",
   "metadata": {},
   "outputs": [],
   "source": [
    "columns_2016 = ['Precinct ID (2016)', 'Barangay', 'Province', 'Region', 'City']\n",
    "columns_2022 = ['Precinct ID (2022)', 'Barangay', 'Province', 'Region', 'City']\n",
    "loc_2016 = pd.DataFrame(elec_2016[columns_2016].sort_index(axis=1).reset_index(drop=True))\n",
    "loc_2022 = pd.DataFrame(elec_2022[columns_2022].sort_index(axis=1).reset_index(drop=True))"
   ]
  },
  {
   "cell_type": "markdown",
   "id": "9757ba09-af20-4b37-b0ce-bd8ec911706c",
   "metadata": {},
   "source": [
    "## Abbreviate regions in 2022 dataset"
   ]
  },
  {
   "cell_type": "code",
   "execution_count": 4,
   "id": "d0719652-e9d1-44cb-a4c7-2a5a3558a4c6",
   "metadata": {},
   "outputs": [],
   "source": [
    "# https://stackoverflow.com/questions/19937362/filter-string-data-based-on-its-string-length\n",
    "loc_2022.loc[\n",
    "    loc_2022[\"Region\"].apply(lambda name: len(name.split()) > 2), \"Region\"\n",
    "] = loc_2022[\"Region\"].apply(lambda name: \"\".join([word[0] for word in name.split()]))"
   ]
  },
  {
   "cell_type": "markdown",
   "id": "da732787-3d91-4ce1-bd49-faa1b4bd5721",
   "metadata": {},
   "source": [
    "## Prepare dataframes for merging"
   ]
  },
  {
   "cell_type": "code",
   "execution_count": 5,
   "id": "e55a0fc4-bce0-47ce-95d4-239c6c5d72f9",
   "metadata": {},
   "outputs": [],
   "source": [
    "loc_2016.sort_values(by='Precinct ID (2016)', inplace=True)\n",
    "loc_2022.sort_values(by='Precinct ID (2022)', inplace=True)\n",
    "\n",
    "# https://stackoverflow.com/questions/40251948/stop-pandas-from-converting-int-to-float-due-to-an-insertion-in-another-column\n",
    "loc_2016[\"Precinct ID (2016)\"] = pd.Series(loc_2016[\"Precinct ID (2016)\"], dtype=object)\n",
    "loc_2022[\"Precinct ID (2022)\"] = pd.Series(loc_2022[\"Precinct ID (2022)\"], dtype=object) \n",
    "\n",
    "# https://stackoverflow.com/questions/33165734/update-index-after-sorting-data-frame\n",
    "loc_2016 = loc_2016.reset_index(drop=True)\n",
    "loc_2022 = loc_2022.reset_index(drop=True)"
   ]
  },
  {
   "cell_type": "markdown",
   "id": "a4b98875-382f-4d41-967c-0e3847444007",
   "metadata": {},
   "source": [
    "## Check matched dataframes"
   ]
  },
  {
   "cell_type": "code",
   "execution_count": 6,
   "id": "0eee0978-54a8-4217-973a-aa39e524ede1",
   "metadata": {},
   "outputs": [
    {
     "name": "stdout",
     "output_type": "stream",
     "text": [
      "Shape (90642, 5) (105666, 5)\n",
      "Index(['Barangay', 'City', 'Precinct ID (2016)', 'Province', 'Region'], dtype='object')\n",
      "Index(['Barangay', 'City', 'Precinct ID (2022)', 'Province', 'Region'], dtype='object')\n"
     ]
    }
   ],
   "source": [
    "print('Shape', loc_2016.shape, loc_2022.shape)\n",
    "print(loc_2016.columns)\n",
    "print(loc_2022.columns)"
   ]
  },
  {
   "cell_type": "markdown",
   "id": "372c898c-24c2-4c90-bb54-c2f63ce8349b",
   "metadata": {},
   "source": [
    "## Merge the dataframes"
   ]
  },
  {
   "cell_type": "code",
   "execution_count": 28,
   "id": "3b96db23-dc37-4830-be74-ab8eac60e1ff",
   "metadata": {
    "tags": []
   },
   "outputs": [
    {
     "data": {
      "application/vnd.jupyter.widget-view+json": {
       "model_id": "1c0a570189e24830b1e4c28b02586918",
       "version_major": 2,
       "version_minor": 0
      },
      "text/plain": [
       "Summarize dataset:   0%|          | 0/5 [00:00<?, ?it/s]"
      ]
     },
     "metadata": {},
     "output_type": "display_data"
    },
    {
     "data": {
      "application/vnd.jupyter.widget-view+json": {
       "model_id": "a4dd808858984cd5afdba5aa1eb5e0c7",
       "version_major": 2,
       "version_minor": 0
      },
      "text/plain": [
       "Generate report structure:   0%|          | 0/1 [00:00<?, ?it/s]"
      ]
     },
     "metadata": {},
     "output_type": "display_data"
    },
    {
     "data": {
      "application/vnd.jupyter.widget-view+json": {
       "model_id": "523e6daa34dd4f589d2e928ba5dc9a99",
       "version_major": 2,
       "version_minor": 0
      },
      "text/plain": [
       "Render HTML:   0%|          | 0/1 [00:00<?, ?it/s]"
      ]
     },
     "metadata": {},
     "output_type": "display_data"
    },
    {
     "data": {
      "application/vnd.jupyter.widget-view+json": {
       "model_id": "1fe278f31b5942c78e13234477ea102b",
       "version_major": 2,
       "version_minor": 0
      },
      "text/plain": [
       "Export report to file:   0%|          | 0/1 [00:00<?, ?it/s]"
      ]
     },
     "metadata": {},
     "output_type": "display_data"
    }
   ],
   "source": [
    "merged = pd.merge(\n",
    "    loc_2016, \n",
    "    loc_2022, \n",
    "    how=\"outer\",\n",
    "    left_on=['Precinct ID (2016)'],\n",
    "    right_on=['Precinct ID (2022)'],\n",
    "    suffixes=(' (2016)', ' (2022)'),\n",
    ")\n",
    "\n",
    "sorter = [\n",
    "    'Precinct ID (2016)',\n",
    "    'Precinct ID (2022)',\n",
    "    'Barangay (2016)',\n",
    "    'Barangay (2022)',\n",
    "    'City (2016)',\n",
    "    'City (2022)',\n",
    "    'Province (2016)',\n",
    "    'Province (2022)',\n",
    "    'Region (2016)',\n",
    "    'Region (2022)',\n",
    "]\n",
    "merged = merged[sorter]"
   ]
  },
  {
   "cell_type": "markdown",
   "id": "d087c82d-b1d0-44bb-b738-720073fc780c",
   "metadata": {},
   "source": [
    "## VALIDATE by comparing to pres and vp pandas profiling reports"
   ]
  },
  {
   "cell_type": "code",
   "execution_count": null,
   "id": "4737259c-d93c-4161-9687-1fc26e439e1e",
   "metadata": {},
   "outputs": [],
   "source": [
    "profile = ProfileReport(merged, title=\"Pandas Profiling Report\")\n",
    "profile.to_file(\"../reports/Loc - Pandas Profiling Report.html\")"
   ]
  },
  {
   "cell_type": "markdown",
   "id": "853b6632-b6b2-4073-a9a3-0804fe82949d",
   "metadata": {},
   "source": [
    "## Compare 2016 and 2022 records for matched precinct ids but unmatched location names"
   ]
  },
  {
   "cell_type": "code",
   "execution_count": 27,
   "id": "4d7c3bd9-4539-4697-9b45-d0ca8b25a993",
   "metadata": {},
   "outputs": [
    {
     "data": {
      "text/html": [
       "<div>\n",
       "<style scoped>\n",
       "    .dataframe tbody tr th:only-of-type {\n",
       "        vertical-align: middle;\n",
       "    }\n",
       "\n",
       "    .dataframe tbody tr th {\n",
       "        vertical-align: top;\n",
       "    }\n",
       "\n",
       "    .dataframe thead th {\n",
       "        text-align: right;\n",
       "    }\n",
       "</style>\n",
       "<table border=\"1\" class=\"dataframe\">\n",
       "  <thead>\n",
       "    <tr style=\"text-align: right;\">\n",
       "      <th></th>\n",
       "      <th>Region (2016)</th>\n",
       "      <th>Region (2022)</th>\n",
       "    </tr>\n",
       "  </thead>\n",
       "  <tbody>\n",
       "    <tr>\n",
       "      <th>4206</th>\n",
       "      <td>ARMM</td>\n",
       "      <td>BARMM</td>\n",
       "    </tr>\n",
       "    <tr>\n",
       "      <th>4207</th>\n",
       "      <td>ARMM</td>\n",
       "      <td>BARMM</td>\n",
       "    </tr>\n",
       "    <tr>\n",
       "      <th>4208</th>\n",
       "      <td>ARMM</td>\n",
       "      <td>BARMM</td>\n",
       "    </tr>\n",
       "    <tr>\n",
       "      <th>4210</th>\n",
       "      <td>ARMM</td>\n",
       "      <td>BARMM</td>\n",
       "    </tr>\n",
       "    <tr>\n",
       "      <th>4211</th>\n",
       "      <td>ARMM</td>\n",
       "      <td>BARMM</td>\n",
       "    </tr>\n",
       "    <tr>\n",
       "      <th>...</th>\n",
       "      <td>...</td>\n",
       "      <td>...</td>\n",
       "    </tr>\n",
       "    <tr>\n",
       "      <th>76273</th>\n",
       "      <td>ARMM</td>\n",
       "      <td>BARMM</td>\n",
       "    </tr>\n",
       "    <tr>\n",
       "      <th>76274</th>\n",
       "      <td>ARMM</td>\n",
       "      <td>BARMM</td>\n",
       "    </tr>\n",
       "    <tr>\n",
       "      <th>76275</th>\n",
       "      <td>ARMM</td>\n",
       "      <td>BARMM</td>\n",
       "    </tr>\n",
       "    <tr>\n",
       "      <th>76276</th>\n",
       "      <td>ARMM</td>\n",
       "      <td>BARMM</td>\n",
       "    </tr>\n",
       "    <tr>\n",
       "      <th>76277</th>\n",
       "      <td>ARMM</td>\n",
       "      <td>BARMM</td>\n",
       "    </tr>\n",
       "  </tbody>\n",
       "</table>\n",
       "<p>6483 rows × 2 columns</p>\n",
       "</div>"
      ],
      "text/plain": [
       "      Region (2016) Region (2022)\n",
       "4206           ARMM         BARMM\n",
       "4207           ARMM         BARMM\n",
       "4208           ARMM         BARMM\n",
       "4210           ARMM         BARMM\n",
       "4211           ARMM         BARMM\n",
       "...             ...           ...\n",
       "76273          ARMM         BARMM\n",
       "76274          ARMM         BARMM\n",
       "76275          ARMM         BARMM\n",
       "76276          ARMM         BARMM\n",
       "76277          ARMM         BARMM\n",
       "\n",
       "[6483 rows x 2 columns]"
      ]
     },
     "execution_count": 27,
     "metadata": {},
     "output_type": "execute_result"
    }
   ],
   "source": [
    "locs = ['Barangay', 'Province', 'Region', 'City']\n",
    "merged.loc[\n",
    "    (merged[\"Precinct ID (2016)\"] == merged[\"Precinct ID (2022)\"]) & (merged[\"Region (2016)\"] != merged[\"Region (2022)\"]), \n",
    "    [\"Region (2016)\", \"Region (2022)\"]\n",
    "]"
   ]
  },
  {
   "cell_type": "code",
   "execution_count": null,
   "id": "e2ddf9a2-82a3-4fe2-a92a-491e24202025",
   "metadata": {},
   "outputs": [],
   "source": []
  },
  {
   "cell_type": "markdown",
   "id": "6d9aba5d-e265-4c82-8e58-2c173fe25ab3",
   "metadata": {
    "tags": []
   },
   "source": [
    "## Check merged dataframe"
   ]
  },
  {
   "cell_type": "code",
   "execution_count": 29,
   "id": "02256bf9-9eba-4cbe-a933-181407ba6fe8",
   "metadata": {
    "tags": []
   },
   "outputs": [
    {
     "name": "stdout",
     "output_type": "stream",
     "text": [
      "Index(['Precinct ID (2016)', 'Precinct ID (2022)', 'Barangay (2016)',\n",
      "       'Barangay (2022)', 'City (2016)', 'City (2022)', 'Province (2016)',\n",
      "       'Province (2022)', 'Region (2016)', 'Region (2022)'],\n",
      "      dtype='object')\n"
     ]
    }
   ],
   "source": [
    "print(merged.columns)"
   ]
  },
  {
   "cell_type": "markdown",
   "id": "6309408f-ac89-4081-8543-5696fbcb9db3",
   "metadata": {
    "tags": []
   },
   "source": [
    "## Select new precincts "
   ]
  },
  {
   "cell_type": "code",
   "execution_count": 389,
   "id": "1f242bda-1952-45d8-9338-53c290a5e084",
   "metadata": {
    "tags": []
   },
   "outputs": [
    {
     "data": {
      "text/html": [
       "<div>\n",
       "<style scoped>\n",
       "    .dataframe tbody tr th:only-of-type {\n",
       "        vertical-align: middle;\n",
       "    }\n",
       "\n",
       "    .dataframe tbody tr th {\n",
       "        vertical-align: top;\n",
       "    }\n",
       "\n",
       "    .dataframe thead th {\n",
       "        text-align: right;\n",
       "    }\n",
       "</style>\n",
       "<table border=\"1\" class=\"dataframe\">\n",
       "  <thead>\n",
       "    <tr style=\"text-align: right;\">\n",
       "      <th></th>\n",
       "      <th>Precinct ID (2016)</th>\n",
       "      <th>Precinct ID (2022)</th>\n",
       "      <th>Barangay (2016)</th>\n",
       "      <th>Barangay (2022)</th>\n",
       "      <th>City (2016)</th>\n",
       "      <th>City (2022)</th>\n",
       "      <th>Province (2016)</th>\n",
       "      <th>Province (2022)</th>\n",
       "      <th>Region (2016)</th>\n",
       "      <th>Region (2022)</th>\n",
       "    </tr>\n",
       "  </thead>\n",
       "  <tbody>\n",
       "    <tr>\n",
       "      <th>90642</th>\n",
       "      <td>NaN</td>\n",
       "      <td>1010048</td>\n",
       "      <td>NaN</td>\n",
       "      <td>SAGAP</td>\n",
       "      <td>NaN</td>\n",
       "      <td>BANGUED</td>\n",
       "      <td>NaN</td>\n",
       "      <td>ABRA</td>\n",
       "      <td>NaN</td>\n",
       "      <td>CAR</td>\n",
       "    </tr>\n",
       "    <tr>\n",
       "      <th>90643</th>\n",
       "      <td>NaN</td>\n",
       "      <td>1010049</td>\n",
       "      <td>NaN</td>\n",
       "      <td>SAN ANTONIO</td>\n",
       "      <td>NaN</td>\n",
       "      <td>BANGUED</td>\n",
       "      <td>NaN</td>\n",
       "      <td>ABRA</td>\n",
       "      <td>NaN</td>\n",
       "      <td>CAR</td>\n",
       "    </tr>\n",
       "    <tr>\n",
       "      <th>90644</th>\n",
       "      <td>NaN</td>\n",
       "      <td>1010050</td>\n",
       "      <td>NaN</td>\n",
       "      <td>SAN ANTONIO</td>\n",
       "      <td>NaN</td>\n",
       "      <td>BANGUED</td>\n",
       "      <td>NaN</td>\n",
       "      <td>ABRA</td>\n",
       "      <td>NaN</td>\n",
       "      <td>CAR</td>\n",
       "    </tr>\n",
       "    <tr>\n",
       "      <th>90645</th>\n",
       "      <td>NaN</td>\n",
       "      <td>1010051</td>\n",
       "      <td>NaN</td>\n",
       "      <td>SAO-ATAN</td>\n",
       "      <td>NaN</td>\n",
       "      <td>BANGUED</td>\n",
       "      <td>NaN</td>\n",
       "      <td>ABRA</td>\n",
       "      <td>NaN</td>\n",
       "      <td>CAR</td>\n",
       "    </tr>\n",
       "    <tr>\n",
       "      <th>90646</th>\n",
       "      <td>NaN</td>\n",
       "      <td>1010052</td>\n",
       "      <td>NaN</td>\n",
       "      <td>SAPPAAC</td>\n",
       "      <td>NaN</td>\n",
       "      <td>BANGUED</td>\n",
       "      <td>NaN</td>\n",
       "      <td>ABRA</td>\n",
       "      <td>NaN</td>\n",
       "      <td>CAR</td>\n",
       "    </tr>\n",
       "    <tr>\n",
       "      <th>...</th>\n",
       "      <td>...</td>\n",
       "      <td>...</td>\n",
       "      <td>...</td>\n",
       "      <td>...</td>\n",
       "      <td>...</td>\n",
       "      <td>...</td>\n",
       "      <td>...</td>\n",
       "      <td>...</td>\n",
       "      <td>...</td>\n",
       "      <td>...</td>\n",
       "    </tr>\n",
       "    <tr>\n",
       "      <th>108029</th>\n",
       "      <td>NaN</td>\n",
       "      <td>93100021</td>\n",
       "      <td>NaN</td>\n",
       "      <td>BARCELONA PCG</td>\n",
       "      <td>NaN</td>\n",
       "      <td>KINGDOM OF SPAIN</td>\n",
       "      <td>NaN</td>\n",
       "      <td>EUROPE</td>\n",
       "      <td>NaN</td>\n",
       "      <td>OAV</td>\n",
       "    </tr>\n",
       "    <tr>\n",
       "      <th>108030</th>\n",
       "      <td>NaN</td>\n",
       "      <td>93100022</td>\n",
       "      <td>NaN</td>\n",
       "      <td>BARCELONA PCG</td>\n",
       "      <td>NaN</td>\n",
       "      <td>KINGDOM OF SPAIN</td>\n",
       "      <td>NaN</td>\n",
       "      <td>EUROPE</td>\n",
       "      <td>NaN</td>\n",
       "      <td>OAV</td>\n",
       "    </tr>\n",
       "    <tr>\n",
       "      <th>108031</th>\n",
       "      <td>NaN</td>\n",
       "      <td>93100023</td>\n",
       "      <td>NaN</td>\n",
       "      <td>BARCELONA PCG</td>\n",
       "      <td>NaN</td>\n",
       "      <td>KINGDOM OF SPAIN</td>\n",
       "      <td>NaN</td>\n",
       "      <td>EUROPE</td>\n",
       "      <td>NaN</td>\n",
       "      <td>OAV</td>\n",
       "    </tr>\n",
       "    <tr>\n",
       "      <th>108032</th>\n",
       "      <td>NaN</td>\n",
       "      <td>93100026</td>\n",
       "      <td>NaN</td>\n",
       "      <td>BARCELONA PCG</td>\n",
       "      <td>NaN</td>\n",
       "      <td>KINGDOM OF SPAIN</td>\n",
       "      <td>NaN</td>\n",
       "      <td>EUROPE</td>\n",
       "      <td>NaN</td>\n",
       "      <td>OAV</td>\n",
       "    </tr>\n",
       "    <tr>\n",
       "      <th>108033</th>\n",
       "      <td>NaN</td>\n",
       "      <td>93100027</td>\n",
       "      <td>NaN</td>\n",
       "      <td>ANDORRA</td>\n",
       "      <td>NaN</td>\n",
       "      <td>KINGDOM OF SPAIN</td>\n",
       "      <td>NaN</td>\n",
       "      <td>EUROPE</td>\n",
       "      <td>NaN</td>\n",
       "      <td>OAV</td>\n",
       "    </tr>\n",
       "  </tbody>\n",
       "</table>\n",
       "<p>17392 rows × 10 columns</p>\n",
       "</div>"
      ],
      "text/plain": [
       "       Precinct ID (2016) Precinct ID (2022) Barangay (2016) Barangay (2022)  \\\n",
       "90642                 NaN            1010048             NaN           SAGAP   \n",
       "90643                 NaN            1010049             NaN     SAN ANTONIO   \n",
       "90644                 NaN            1010050             NaN     SAN ANTONIO   \n",
       "90645                 NaN            1010051             NaN        SAO-ATAN   \n",
       "90646                 NaN            1010052             NaN         SAPPAAC   \n",
       "...                   ...                ...             ...             ...   \n",
       "108029                NaN           93100021             NaN   BARCELONA PCG   \n",
       "108030                NaN           93100022             NaN   BARCELONA PCG   \n",
       "108031                NaN           93100023             NaN   BARCELONA PCG   \n",
       "108032                NaN           93100026             NaN   BARCELONA PCG   \n",
       "108033                NaN           93100027             NaN         ANDORRA   \n",
       "\n",
       "       City (2016)       City (2022) Province (2016) Province (2022)  \\\n",
       "90642          NaN           BANGUED             NaN            ABRA   \n",
       "90643          NaN           BANGUED             NaN            ABRA   \n",
       "90644          NaN           BANGUED             NaN            ABRA   \n",
       "90645          NaN           BANGUED             NaN            ABRA   \n",
       "90646          NaN           BANGUED             NaN            ABRA   \n",
       "...            ...               ...             ...             ...   \n",
       "108029         NaN  KINGDOM OF SPAIN             NaN          EUROPE   \n",
       "108030         NaN  KINGDOM OF SPAIN             NaN          EUROPE   \n",
       "108031         NaN  KINGDOM OF SPAIN             NaN          EUROPE   \n",
       "108032         NaN  KINGDOM OF SPAIN             NaN          EUROPE   \n",
       "108033         NaN  KINGDOM OF SPAIN             NaN          EUROPE   \n",
       "\n",
       "       Region (2016) Region (2022)  \n",
       "90642            NaN           CAR  \n",
       "90643            NaN           CAR  \n",
       "90644            NaN           CAR  \n",
       "90645            NaN           CAR  \n",
       "90646            NaN           CAR  \n",
       "...              ...           ...  \n",
       "108029           NaN           OAV  \n",
       "108030           NaN           OAV  \n",
       "108031           NaN           OAV  \n",
       "108032           NaN           OAV  \n",
       "108033           NaN           OAV  \n",
       "\n",
       "[17392 rows x 10 columns]"
      ]
     },
     "execution_count": 389,
     "metadata": {},
     "output_type": "execute_result"
    }
   ],
   "source": [
    "merged.loc[merged[\"Barangay (2016)\"].isnull()]"
   ]
  },
  {
   "cell_type": "markdown",
   "id": "4c3dddf6-bfe6-4f54-8af1-150aafab3f6c",
   "metadata": {},
   "source": [
    "## [DOING] Define function to get dataframe comparison between 2016 to 2022 for a given location"
   ]
  },
  {
   "cell_type": "code",
   "execution_count": 35,
   "id": "5d78597a-e2d7-4010-88aa-4b54d2b14e3a",
   "metadata": {},
   "outputs": [],
   "source": [
    "# DOING \n",
    "def get_distinct_locs_df(loc):\n",
    "    \"\"\" Get unique values from given {loc} for years 2016 and 2022 \"\"\"\n",
    "    locs = {}\n",
    "    locs[f\"Distinct {loc} (2016)\"] = merged[f\"{loc} (2016)\"].dropna().explode().unique()\n",
    "    locs[f\"Distinct {loc} (2016)\"] = pd.Series(\n",
    "        locs[f\"Distinct {loc} (2016)\"], \n",
    "        index=[i for i in range(len(locs[f\"Distinct {loc} (2016)\"]))], \n",
    "        name=f\"{loc} (2016)\"\n",
    "    )\n",
    "    locs[f\"Distinct {loc} (2022)\"] = merged[f\"{loc} (2022)\"].dropna().explode().unique()\n",
    "    locs[f\"Distinct {loc} (2022)\"] = pd.Series(\n",
    "        locs[f\"Distinct {loc} (2022)\"], \n",
    "        index=[i for i in range(len(locs[f\"Distinct {loc} (2022)\"]))], \n",
    "        name=f\"{loc} (2022)\"\n",
    "    )\n",
    "\n",
    "    # DOING: account for instanaces such as:\n",
    "    # ZONE 1 POB. (NALASIN) -vs- ZONE 1 POB.\n",
    "    \n",
    "    distinct_provinces = pd.merge(\n",
    "        locs[f\"Distinct {loc} (2016)\"], \n",
    "        locs[f\"Distinct {loc} (2022)\"], \n",
    "        how=\"outer\",\n",
    "        left_on=[f'{loc} (2016)'],\n",
    "        right_on=[f'{loc} (2022)'],\n",
    "    )\n",
    "    return distinct_provinces\n",
    "\n",
    "def get_distinct_locs_df(loc):\n",
    "    \"\"\" Get unique values from given {loc} for years 2016 and 2022 \"\"\"\n",
    "    locs = {}\n",
    "    locs[f\"Distinct {loc} (2016)\"] = merged.loc[merged[\"Precinct ID (2016)\"].notnull(), f\"{loc} (2016)\"].dropna().explode().unique()\n",
    "    locs[f\"Distinct {loc} (2016)\"] = pd.Series(\n",
    "        locs[f\"Distinct {loc} (2016)\"], \n",
    "        index=[i for i in range(len(locs[f\"Distinct {loc} (2016)\"]))], \n",
    "        name=f\"{loc} (2016)\"\n",
    "    )\n",
    "    locs[f\"Distinct {loc} (2022)\"] = merged.loc[merged[\"Precinct ID (2022)\"].notnull(), f\"{loc} (2022)\"].dropna().explode().unique()\n",
    "    locs[f\"Distinct {loc} (2022)\"] = pd.Series(\n",
    "        locs[f\"Distinct {loc} (2022)\"], \n",
    "        index=[i for i in range(len(locs[f\"Distinct {loc} (2022)\"]))], \n",
    "        name=f\"{loc} (2022)\"\n",
    "    )\n",
    "    if locs[f\"Distinct {loc} (2016)\"].count() > locs[f\"Distinct {loc} (2022)\"].count(): \n",
    "        locs[f\"Distinct {loc} (2022)\"] = locs[f\"Distinct {loc} (2022)\"].reindex_like(locs[f\"Distinct {loc} (2016)\"])\n",
    "        # print(locs[f\"Distinct {loc} (2022)\"])\n",
    "        # print(locs[f\"Distinct {loc} (2016)\"])\n",
    "    else:\n",
    "        locs[f\"Distinct {loc} (2016)\"] = locs[f\"Distinct {loc} (2016)\"].reindex_like(locs[f\"Distinct {loc} (2022)\"])\n",
    "\n",
    "    return pd.concat([locs[f\"Distinct {loc} (2016)\"], locs[f\"Distinct {loc} (2022)\"]], axis=1)"
   ]
  },
  {
   "cell_type": "code",
   "execution_count": 36,
   "id": "35aed9ad-feba-4834-bea6-b81fc9b4d608",
   "metadata": {},
   "outputs": [],
   "source": [
    "# compare distinct regions from 2016 and 2022\n",
    "\n",
    "distinct_precincts = get_distinct_locs_df(\"Precinct ID\")\n",
    "# ProfileReport(distinct_precincts)"
   ]
  },
  {
   "cell_type": "code",
   "execution_count": 37,
   "id": "519e3065-2f5e-4738-84be-589c97f158d0",
   "metadata": {
    "tags": []
   },
   "outputs": [],
   "source": [
    "# compare distinct regions from 2016 and 2022\n",
    "\n",
    "distinct_regions = get_distinct_locs_df(\"Region\")\n",
    "# ProfileReport(distinct_regions)"
   ]
  },
  {
   "cell_type": "code",
   "execution_count": 38,
   "id": "34347c58-db42-4003-8192-5d4ad513a6f4",
   "metadata": {
    "tags": []
   },
   "outputs": [],
   "source": [
    "# compare distinct provinces from 2016 and 2022\n",
    "\n",
    "distinct_provinces = get_distinct_locs_df(\"Province\")\n",
    "# ProfileReport(distinct_provinces)"
   ]
  },
  {
   "cell_type": "code",
   "execution_count": 39,
   "id": "a91dcb93-1123-4dfe-b2ec-52a054ba7731",
   "metadata": {
    "tags": []
   },
   "outputs": [],
   "source": [
    "# compare distinct cities from 2016 and 2022\n",
    "\n",
    "distinct_cities = get_distinct_locs_df(\"City\")\n",
    "# ProfileReport(distinct_cities)"
   ]
  },
  {
   "cell_type": "code",
   "execution_count": 40,
   "id": "2256f361-8562-448a-b167-3207db206ad2",
   "metadata": {
    "tags": []
   },
   "outputs": [],
   "source": [
    "# compare distinct barangays from 2016 and 2022\n",
    "\n",
    "distinct_barangays = get_distinct_locs_df(\"Barangay\")\n",
    "# ProfileReport(distinct_barangays)"
   ]
  },
  {
   "cell_type": "markdown",
   "id": "50ca85ae-10e1-4dc9-8f66-94417cedfa9e",
   "metadata": {},
   "source": [
    "## [DOING] Define functions to get new and old locations"
   ]
  },
  {
   "cell_type": "code",
   "execution_count": 41,
   "id": "208c9af4-2f7f-459a-9aad-db199de3cedb",
   "metadata": {},
   "outputs": [],
   "source": [
    "loc_columns = {\n",
    "    'Precinct ID': distinct_precincts, \n",
    "    'Barangay': distinct_barangays, \n",
    "    'City': distinct_cities,\n",
    "    'Province': distinct_provinces, \n",
    "    'Region': distinct_regions, \n",
    "}\n",
    "\n",
    "def get_added_and_removed():\n",
    "    for loc_col in loc_columns.keys():\n",
    "        print(\n",
    "            loc_columns[loc_col]\n",
    "            .loc[loc_columns[loc_col][f\"{loc_col} (2016)\"].isnull(), f\"{loc_col} (2022)\"],\n",
    "            end=\"\\n\\n\\n\"\n",
    "        )\n",
    "        print(\n",
    "            loc_columns[loc_col]\n",
    "            .loc[loc_columns[loc_col][f\"{loc_col} (2022)\"].isnull(), f\"{loc_col} (2016)\"],\n",
    "            end=\"\\n\\n\\n\"\n",
    "        )"
   ]
  },
  {
   "cell_type": "code",
   "execution_count": 42,
   "id": "eff8c8bf-469c-4de1-90ca-23a427a32dc7",
   "metadata": {},
   "outputs": [],
   "source": [
    "loc = 'Barangay'\n",
    "locs = {}\n",
    "locs[f\"Distinct {loc} (2016)\"] = merged.loc[merged[\"Precinct ID (2016)\"].notnull(), f\"{loc} (2016)\"].dropna().explode().unique()\n",
    "# list(locs[f\"Distinct {loc} (2016)\"])"
   ]
  }
 ],
 "metadata": {
  "kernelspec": {
   "display_name": "Python 3 (ipykernel)",
   "language": "python",
   "name": "python3"
  },
  "language_info": {
   "codemirror_mode": {
    "name": "ipython",
    "version": 3
   },
   "file_extension": ".py",
   "mimetype": "text/x-python",
   "name": "python",
   "nbconvert_exporter": "python",
   "pygments_lexer": "ipython3",
   "version": "3.9.6"
  }
 },
 "nbformat": 4,
 "nbformat_minor": 5
}
